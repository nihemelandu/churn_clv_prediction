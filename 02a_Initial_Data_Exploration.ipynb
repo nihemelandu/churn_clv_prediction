{
  "nbformat": 4,
  "nbformat_minor": 0,
  "metadata": {
    "colab": {
      "provenance": [],
      "mount_file_id": "1tc1it87GsdDAUoIgJIIETL3oNAnwaAZm",
      "authorship_tag": "ABX9TyPn0WqDZyHWLfwFQUidD6ew",
      "include_colab_link": true
    },
    "kernelspec": {
      "name": "python3",
      "display_name": "Python 3"
    },
    "language_info": {
      "name": "python"
    }
  },
  "cells": [
    {
      "cell_type": "markdown",
      "metadata": {
        "id": "view-in-github",
        "colab_type": "text"
      },
      "source": [
        "<a href=\"https://colab.research.google.com/github/nihemelandu/churn_clv_prediction/blob/main/02a_Initial_Data_Exploration.ipynb\" target=\"_parent\"><img src=\"https://colab.research.google.com/assets/colab-badge.svg\" alt=\"Open In Colab\"/></a>"
      ]
    },
    {
      "cell_type": "code",
      "source": [
        "# Step 1: Representative Sampling Strategy\n",
        "import numpy as np\n",
        "import pandas as pd"
      ],
      "metadata": {
        "id": "q3Filck9Rkkt"
      },
      "execution_count": null,
      "outputs": []
    },
    {
      "cell_type": "code",
      "execution_count": null,
      "metadata": {
        "colab": {
          "base_uri": "https://localhost:8080/"
        },
        "id": "uM78X-R-RhMq",
        "outputId": "cd3003ee-ad6a-4f32-f5b4-f7428d92d88b"
      },
      "outputs": [
        {
          "output_type": "stream",
          "name": "stdout",
          "text": [
            "Combined sample: 42,391 rows\n"
          ]
        }
      ],
      "source": [
        "# Memory: ~constant (just the lambda function)\n",
        "# Time: Single pass through file\n",
        "# Scalability: Works regardless of file size\n",
        "\n",
        "# Sample from both months\n",
        "sample_oct = pd.read_csv('/content/drive/MyDrive/2019-Oct.csv',\n",
        "                        skiprows=lambda i: i > 0 and np.random.random() > 0.001)\n",
        "\n",
        "#sample_nov = pd.read_csv('2019-Nov.csv',\n",
        "                        #skiprows=lambda i: i > 0 and np.random.random() > 0.001)\n",
        "\n",
        "# Combine samples\n",
        "#sample_df = pd.concat([sample_oct, sample_nov], ignore_index=True)\n",
        "#print(f\"Combined sample: {len(sample_df):,} rows\")\n",
        "#print(f\"October: {len(sample_oct):,}, November: {len(sample_nov):,}\")\n",
        "\n",
        "print(f\"Combined sample: {len(sample_oct):,} rows\")"
      ]
    },
    {
      "cell_type": "code",
      "source": [
        "# More concise version:\n",
        "sample_df = sample_oct\n",
        "print(f\"Sample size: {sample_df.shape[0]:,} rows, {sample_df.shape[1]} columns\")\n",
        "print(f\"\\nData types:\")\n",
        "print(sample_df.dtypes)\n",
        "print(f\"\\nMemory usage:\")\n",
        "print(sample_df.memory_usage(deep=True))"
      ],
      "metadata": {
        "colab": {
          "base_uri": "https://localhost:8080/"
        },
        "id": "wnKIqtdk-qSX",
        "outputId": "448a6abd-cf16-467f-a35f-f8ebe456c4d6"
      },
      "execution_count": null,
      "outputs": [
        {
          "output_type": "stream",
          "name": "stdout",
          "text": [
            "Sample size: 42,391 rows, 9 columns\n",
            "\n",
            "Data types:\n",
            "event_time        object\n",
            "event_type        object\n",
            "product_id         int64\n",
            "category_id        int64\n",
            "category_code     object\n",
            "brand             object\n",
            "price            float64\n",
            "user_id            int64\n",
            "user_session      object\n",
            "dtype: object\n",
            "\n",
            "Memory usage:\n",
            "Index                132\n",
            "event_time       3052152\n",
            "event_type       2249731\n",
            "product_id        339128\n",
            "category_id       339128\n",
            "category_code    2499681\n",
            "brand            2189301\n",
            "price             339128\n",
            "user_id           339128\n",
            "user_session     3603235\n",
            "dtype: int64\n"
          ]
        }
      ]
    },
    {
      "cell_type": "code",
      "source": [
        "# First, let's see your actual sample size\n",
        "sample_size = len(sample_df)\n",
        "total_memory_mb = sample_df.memory_usage(deep=True).sum() / (1024 * 1024)\n",
        "\n",
        "# Then calculate scaling\n",
        "scale_factor = 285_000_000 / sample_size\n",
        "estimated_full_memory_gb = (total_memory_mb * scale_factor) / 1024\n",
        "\n",
        "print(f\"Sample size: {sample_size:,} rows\")\n",
        "print(f\"Sample memory: {total_memory_mb:.1f} MB\")\n",
        "print(f\"Estimated full dataset: {estimated_full_memory_gb:.1f} GB\")"
      ],
      "metadata": {
        "colab": {
          "base_uri": "https://localhost:8080/"
        },
        "id": "SpgGjDs9B6AQ",
        "outputId": "123e7151-87a4-4060-9202-9bc94f5fbffc"
      },
      "execution_count": null,
      "outputs": [
        {
          "output_type": "stream",
          "name": "stdout",
          "text": [
            "Sample size: 42,391 rows\n",
            "Sample memory: 14.3 MB\n",
            "Estimated full dataset: 93.6 GB\n"
          ]
        }
      ]
    },
    {
      "cell_type": "markdown",
      "source": [
        "Your data tells you what it wants to be:\n",
        "→ Comparing categories? Bar charts work great\n",
        "→ Showing change over time? Line charts are your friend\n",
        "→ Looking for relationships? Use Scatter plots\n",
        "→ Breaking down a whole? Pie charts (sparingly) or stacked bars\n",
        "→ Showing distribution? Histograms tell the real story\n",
        "\n",
        "I now spend 5 minutes before every analysis asking myself:\n",
        "— Am I comparing?\n",
        "— Am I tracking change?\n",
        "— Am I looking for patterns?\n",
        "— Am I showing composition?"
      ],
      "metadata": {
        "id": "7uglrE0m9PXJ"
      }
    }
  ]
}