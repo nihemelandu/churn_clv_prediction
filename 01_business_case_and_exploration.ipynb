{
  "nbformat": 4,
  "nbformat_minor": 0,
  "metadata": {
    "colab": {
      "provenance": [],
      "mount_file_id": "1Oz9yDvWSrqybvJpQOtraV5KHlVn3VbkD",
      "authorship_tag": "ABX9TyPdQ0KabSVICXwtqDiNjjTX",
      "include_colab_link": true
    },
    "kernelspec": {
      "name": "python3",
      "display_name": "Python 3"
    },
    "language_info": {
      "name": "python"
    }
  },
  "cells": [
    {
      "cell_type": "markdown",
      "metadata": {
        "id": "view-in-github",
        "colab_type": "text"
      },
      "source": [
        "<a href=\"https://colab.research.google.com/github/nihemelandu/churn_clv_prediction/blob/main/01_business_case_and_exploration.ipynb\" target=\"_parent\"><img src=\"https://colab.research.google.com/assets/colab-badge.svg\" alt=\"Open In Colab\"/></a>"
      ]
    },
    {
      "cell_type": "markdown",
      "source": [
        "# Business Problem & ROI Framework"
      ],
      "metadata": {
        "id": "nkf8CUggwgz9"
      }
    },
    {
      "cell_type": "markdown",
      "source": [
        "## Business problems:\n",
        "Who is likely to churn, when, and what factors contribute to their decision to leave?\n",
        "\n",
        "ROI Framework for Churn Analysis:\n",
        "**Cost Side:**\n",
        "* Average Customer Acquisition Cost (CAC)\n",
        "* Customer Lifetime Value (CLV) lost per churned customer\n",
        "* Cost of retention campaigns/interventions\n",
        "* Analyst time and resources\n",
        "\n",
        "**Benefit Side:**\n",
        "* Prevented churn revenue (if we can reduce churn by X%, what's the revenue impact?)\n",
        "* Reduced acquisition costs (retaining customers is typically 5-25x cheaper than acquiring new ones)\n",
        "* Increased CLV through proactive engagement\n",
        "* Operational efficiency from targeted rather than blanket retention efforts\n",
        "\n",
        "**Key Questions to Answer First:**\n",
        "1. What's our current churn rate, and what does each churned customer cost us?\n",
        "2. What's a realistic improvement target? (Even a 10-20% reduction in churn can be massive)\n",
        "3. What retention tactics are we capable of executing?\n",
        "4. How much lead time do we need to intervene effectively?\n",
        "\n",
        "| Question               | Inferred Answer                                                   |\n",
        "| ---------------------- | ----------------------------------------------------------------- |\n",
        "| **Churn Rate**         | \\~3–7% monthly churn (depending on segment)                       |\n",
        "| **Cost of Churn**      | \\~\\$70 lost gross margin per churned customer                     |\n",
        "| **Realistic Target**   | +3–5% point improvement in 90-day retention                       |\n",
        "| **Executable Tactics** | Cart/email retargeting, category alerts, churn-risk scoring, etc. |\n",
        "| **Lead Time**          | 1–7 days depending on user frequency and behavior type            |\n",
        "\n",
        "\n"
      ],
      "metadata": {
        "id": "Adfw517BwoLN"
      }
    },
    {
      "cell_type": "markdown",
      "source": [
        "Standard E-commerce Churn Definitions:\n",
        "Most Common Approaches:\n",
        "\n",
        "90-day rule: No purchase in last 90 days (very common for frequent purchase categories)\n",
        "180-day rule: No purchase in last 6 months (common for general retail)\n",
        "365-day rule: No purchase in last year (for infrequent purchase items)\n",
        "\n",
        "Industry-Specific Variations:\n",
        "*   Fashion/Apparel: 120-180 days\n",
        "*   Beauty/Personal Care: 90-120 days\n",
        "*   Electronics: 180-365 days (longer purchase cycles)\n",
        "*   Grocery/Consumables: 30-60 days\n",
        "*   Luxury goods: 365+ days\n",
        "\n",
        "Additional Behavioral Indicators:\n",
        "1.   Email engagement: Stopped opening marketing emails\n",
        "2.   Website activity: No site visits or logins\n",
        "3.   App usage: No mobile app opens\n",
        "\n",
        "Most Practical Definition:\n",
        "Many e-commerce companies use \"no purchase in 6 months (180 days)\" as it balances:\n",
        "\n",
        "Capturing true churn without being too aggressive\n",
        "\n",
        "Allowing for seasonal shopping patterns\n",
        "\n",
        "Giving reasonable time for win-back campaigns\n",
        "\n",
        "Business Context Questions:\n",
        "\n",
        "What's your typical customer purchase frequency?\n",
        "What's your product category?\n",
        "Do you have subscription elements or one-time purchases?\n",
        "\n",
        "The 180-day threshold tends to be the sweet spot for general e-commerce unless you have specific business reasons to adjust it."
      ],
      "metadata": {
        "id": "3RtDBUEjw6zr"
      }
    },
    {
      "cell_type": "markdown",
      "source": [
        "## Success Metrics Definition  \n",
        "\n",
        "1.  Predictive Performance Metrics (Model Quality) - Did we build the model right?\n",
        "\n",
        "ROC/AUC, confusion matrices, precision/recall, and F1 scores\n",
        "Focus: How well does the model distinguish churners from non-churners?\n",
        "\n",
        "2. Calibration Metrics (Probability Reliability)\n",
        "\n",
        "Brier Score: Measures how close predicted probabilities are to actual outcomes\n",
        "Calibration Curve: Assesses if a 70% predicted churn probability means ~70% actually churn\n",
        "Focus: Can we trust the probabilities for business decisions?\n",
        "\n",
        "3. Business-Level Success Metrics (Real-World Impact) Did we build the right model?*italicized text*\n",
        "\n",
        "Churn Rate Reduction: Target 10-20% reduction vs. baseline\n",
        "Revenue Impact: (Prevented churners) × (Average CLV)\n",
        "Campaign ROI: Cost of retention interventions vs. revenue saved\n",
        "Operational Efficiency: Lead time for interventions, campaign response rates"
      ],
      "metadata": {
        "id": "cp-49bPEw25J"
      }
    },
    {
      "cell_type": "markdown",
      "source": [
        "## Initial Data Exploration\n",
        "\n",
        "1. Sample-Based Exploration First"
      ],
      "metadata": {
        "id": "XQT7NSsW0_9-"
      }
    },
    {
      "cell_type": "code",
      "source": [
        "import pandas as pd\n",
        "\n",
        "sample = pd.read_csv(\"/content/drive/MyDrive/2019-Oct.csv\", nrows=1000_000)\n",
        "sample.info()\n",
        "sample.describe()"
      ],
      "metadata": {
        "id": "s6xDMuq624zo",
        "outputId": "194e8361-5a5e-486b-fcaf-0bcf7a35ee4a",
        "colab": {
          "base_uri": "https://localhost:8080/",
          "height": 577
        }
      },
      "execution_count": null,
      "outputs": [
        {
          "output_type": "stream",
          "name": "stdout",
          "text": [
            "<class 'pandas.core.frame.DataFrame'>\n",
            "RangeIndex: 1000000 entries, 0 to 999999\n",
            "Data columns (total 9 columns):\n",
            " #   Column         Non-Null Count    Dtype  \n",
            "---  ------         --------------    -----  \n",
            " 0   event_time     1000000 non-null  object \n",
            " 1   event_type     1000000 non-null  object \n",
            " 2   product_id     1000000 non-null  int64  \n",
            " 3   category_id    1000000 non-null  int64  \n",
            " 4   category_code  681869 non-null   object \n",
            " 5   brand          852440 non-null   object \n",
            " 6   price          1000000 non-null  float64\n",
            " 7   user_id        1000000 non-null  int64  \n",
            " 8   user_session   1000000 non-null  object \n",
            "dtypes: float64(1), int64(3), object(5)\n",
            "memory usage: 68.7+ MB\n"
          ]
        },
        {
          "output_type": "execute_result",
          "data": {
            "text/plain": [
              "         product_id   category_id           price       user_id\n",
              "count  1.000000e+06  1.000000e+06  1000000.000000  1.000000e+06\n",
              "mean   1.034799e+07  2.056348e+18      295.982471  5.312763e+08\n",
              "std    1.123827e+07  1.579788e+16      368.216516  1.667333e+07\n",
              "min    1.001588e+06  2.053014e+18        0.000000  2.449511e+08\n",
              "25%    1.005115e+06  2.053014e+18       64.320000  5.156507e+08\n",
              "50%    5.100397e+06  2.053014e+18      161.930000  5.271290e+08\n",
              "75%    1.640026e+07  2.053014e+18      360.370000  5.480380e+08\n",
              "max    5.390002e+07  2.175420e+18     2574.070000  5.557175e+08"
            ],
            "text/html": [
              "\n",
              "  <div id=\"df-dfd0a6ed-50da-4bf7-b208-ea3047c53b83\" class=\"colab-df-container\">\n",
              "    <div>\n",
              "<style scoped>\n",
              "    .dataframe tbody tr th:only-of-type {\n",
              "        vertical-align: middle;\n",
              "    }\n",
              "\n",
              "    .dataframe tbody tr th {\n",
              "        vertical-align: top;\n",
              "    }\n",
              "\n",
              "    .dataframe thead th {\n",
              "        text-align: right;\n",
              "    }\n",
              "</style>\n",
              "<table border=\"1\" class=\"dataframe\">\n",
              "  <thead>\n",
              "    <tr style=\"text-align: right;\">\n",
              "      <th></th>\n",
              "      <th>product_id</th>\n",
              "      <th>category_id</th>\n",
              "      <th>price</th>\n",
              "      <th>user_id</th>\n",
              "    </tr>\n",
              "  </thead>\n",
              "  <tbody>\n",
              "    <tr>\n",
              "      <th>count</th>\n",
              "      <td>1.000000e+06</td>\n",
              "      <td>1.000000e+06</td>\n",
              "      <td>1000000.000000</td>\n",
              "      <td>1.000000e+06</td>\n",
              "    </tr>\n",
              "    <tr>\n",
              "      <th>mean</th>\n",
              "      <td>1.034799e+07</td>\n",
              "      <td>2.056348e+18</td>\n",
              "      <td>295.982471</td>\n",
              "      <td>5.312763e+08</td>\n",
              "    </tr>\n",
              "    <tr>\n",
              "      <th>std</th>\n",
              "      <td>1.123827e+07</td>\n",
              "      <td>1.579788e+16</td>\n",
              "      <td>368.216516</td>\n",
              "      <td>1.667333e+07</td>\n",
              "    </tr>\n",
              "    <tr>\n",
              "      <th>min</th>\n",
              "      <td>1.001588e+06</td>\n",
              "      <td>2.053014e+18</td>\n",
              "      <td>0.000000</td>\n",
              "      <td>2.449511e+08</td>\n",
              "    </tr>\n",
              "    <tr>\n",
              "      <th>25%</th>\n",
              "      <td>1.005115e+06</td>\n",
              "      <td>2.053014e+18</td>\n",
              "      <td>64.320000</td>\n",
              "      <td>5.156507e+08</td>\n",
              "    </tr>\n",
              "    <tr>\n",
              "      <th>50%</th>\n",
              "      <td>5.100397e+06</td>\n",
              "      <td>2.053014e+18</td>\n",
              "      <td>161.930000</td>\n",
              "      <td>5.271290e+08</td>\n",
              "    </tr>\n",
              "    <tr>\n",
              "      <th>75%</th>\n",
              "      <td>1.640026e+07</td>\n",
              "      <td>2.053014e+18</td>\n",
              "      <td>360.370000</td>\n",
              "      <td>5.480380e+08</td>\n",
              "    </tr>\n",
              "    <tr>\n",
              "      <th>max</th>\n",
              "      <td>5.390002e+07</td>\n",
              "      <td>2.175420e+18</td>\n",
              "      <td>2574.070000</td>\n",
              "      <td>5.557175e+08</td>\n",
              "    </tr>\n",
              "  </tbody>\n",
              "</table>\n",
              "</div>\n",
              "    <div class=\"colab-df-buttons\">\n",
              "\n",
              "  <div class=\"colab-df-container\">\n",
              "    <button class=\"colab-df-convert\" onclick=\"convertToInteractive('df-dfd0a6ed-50da-4bf7-b208-ea3047c53b83')\"\n",
              "            title=\"Convert this dataframe to an interactive table.\"\n",
              "            style=\"display:none;\">\n",
              "\n",
              "  <svg xmlns=\"http://www.w3.org/2000/svg\" height=\"24px\" viewBox=\"0 -960 960 960\">\n",
              "    <path d=\"M120-120v-720h720v720H120Zm60-500h600v-160H180v160Zm220 220h160v-160H400v160Zm0 220h160v-160H400v160ZM180-400h160v-160H180v160Zm440 0h160v-160H620v160ZM180-180h160v-160H180v160Zm440 0h160v-160H620v160Z\"/>\n",
              "  </svg>\n",
              "    </button>\n",
              "\n",
              "  <style>\n",
              "    .colab-df-container {\n",
              "      display:flex;\n",
              "      gap: 12px;\n",
              "    }\n",
              "\n",
              "    .colab-df-convert {\n",
              "      background-color: #E8F0FE;\n",
              "      border: none;\n",
              "      border-radius: 50%;\n",
              "      cursor: pointer;\n",
              "      display: none;\n",
              "      fill: #1967D2;\n",
              "      height: 32px;\n",
              "      padding: 0 0 0 0;\n",
              "      width: 32px;\n",
              "    }\n",
              "\n",
              "    .colab-df-convert:hover {\n",
              "      background-color: #E2EBFA;\n",
              "      box-shadow: 0px 1px 2px rgba(60, 64, 67, 0.3), 0px 1px 3px 1px rgba(60, 64, 67, 0.15);\n",
              "      fill: #174EA6;\n",
              "    }\n",
              "\n",
              "    .colab-df-buttons div {\n",
              "      margin-bottom: 4px;\n",
              "    }\n",
              "\n",
              "    [theme=dark] .colab-df-convert {\n",
              "      background-color: #3B4455;\n",
              "      fill: #D2E3FC;\n",
              "    }\n",
              "\n",
              "    [theme=dark] .colab-df-convert:hover {\n",
              "      background-color: #434B5C;\n",
              "      box-shadow: 0px 1px 3px 1px rgba(0, 0, 0, 0.15);\n",
              "      filter: drop-shadow(0px 1px 2px rgba(0, 0, 0, 0.3));\n",
              "      fill: #FFFFFF;\n",
              "    }\n",
              "  </style>\n",
              "\n",
              "    <script>\n",
              "      const buttonEl =\n",
              "        document.querySelector('#df-dfd0a6ed-50da-4bf7-b208-ea3047c53b83 button.colab-df-convert');\n",
              "      buttonEl.style.display =\n",
              "        google.colab.kernel.accessAllowed ? 'block' : 'none';\n",
              "\n",
              "      async function convertToInteractive(key) {\n",
              "        const element = document.querySelector('#df-dfd0a6ed-50da-4bf7-b208-ea3047c53b83');\n",
              "        const dataTable =\n",
              "          await google.colab.kernel.invokeFunction('convertToInteractive',\n",
              "                                                    [key], {});\n",
              "        if (!dataTable) return;\n",
              "\n",
              "        const docLinkHtml = 'Like what you see? Visit the ' +\n",
              "          '<a target=\"_blank\" href=https://colab.research.google.com/notebooks/data_table.ipynb>data table notebook</a>'\n",
              "          + ' to learn more about interactive tables.';\n",
              "        element.innerHTML = '';\n",
              "        dataTable['output_type'] = 'display_data';\n",
              "        await google.colab.output.renderOutput(dataTable, element);\n",
              "        const docLink = document.createElement('div');\n",
              "        docLink.innerHTML = docLinkHtml;\n",
              "        element.appendChild(docLink);\n",
              "      }\n",
              "    </script>\n",
              "  </div>\n",
              "\n",
              "\n",
              "    <div id=\"df-148ebaf9-d771-48a7-8639-4321c1921a39\">\n",
              "      <button class=\"colab-df-quickchart\" onclick=\"quickchart('df-148ebaf9-d771-48a7-8639-4321c1921a39')\"\n",
              "                title=\"Suggest charts\"\n",
              "                style=\"display:none;\">\n",
              "\n",
              "<svg xmlns=\"http://www.w3.org/2000/svg\" height=\"24px\"viewBox=\"0 0 24 24\"\n",
              "     width=\"24px\">\n",
              "    <g>\n",
              "        <path d=\"M19 3H5c-1.1 0-2 .9-2 2v14c0 1.1.9 2 2 2h14c1.1 0 2-.9 2-2V5c0-1.1-.9-2-2-2zM9 17H7v-7h2v7zm4 0h-2V7h2v10zm4 0h-2v-4h2v4z\"/>\n",
              "    </g>\n",
              "</svg>\n",
              "      </button>\n",
              "\n",
              "<style>\n",
              "  .colab-df-quickchart {\n",
              "      --bg-color: #E8F0FE;\n",
              "      --fill-color: #1967D2;\n",
              "      --hover-bg-color: #E2EBFA;\n",
              "      --hover-fill-color: #174EA6;\n",
              "      --disabled-fill-color: #AAA;\n",
              "      --disabled-bg-color: #DDD;\n",
              "  }\n",
              "\n",
              "  [theme=dark] .colab-df-quickchart {\n",
              "      --bg-color: #3B4455;\n",
              "      --fill-color: #D2E3FC;\n",
              "      --hover-bg-color: #434B5C;\n",
              "      --hover-fill-color: #FFFFFF;\n",
              "      --disabled-bg-color: #3B4455;\n",
              "      --disabled-fill-color: #666;\n",
              "  }\n",
              "\n",
              "  .colab-df-quickchart {\n",
              "    background-color: var(--bg-color);\n",
              "    border: none;\n",
              "    border-radius: 50%;\n",
              "    cursor: pointer;\n",
              "    display: none;\n",
              "    fill: var(--fill-color);\n",
              "    height: 32px;\n",
              "    padding: 0;\n",
              "    width: 32px;\n",
              "  }\n",
              "\n",
              "  .colab-df-quickchart:hover {\n",
              "    background-color: var(--hover-bg-color);\n",
              "    box-shadow: 0 1px 2px rgba(60, 64, 67, 0.3), 0 1px 3px 1px rgba(60, 64, 67, 0.15);\n",
              "    fill: var(--button-hover-fill-color);\n",
              "  }\n",
              "\n",
              "  .colab-df-quickchart-complete:disabled,\n",
              "  .colab-df-quickchart-complete:disabled:hover {\n",
              "    background-color: var(--disabled-bg-color);\n",
              "    fill: var(--disabled-fill-color);\n",
              "    box-shadow: none;\n",
              "  }\n",
              "\n",
              "  .colab-df-spinner {\n",
              "    border: 2px solid var(--fill-color);\n",
              "    border-color: transparent;\n",
              "    border-bottom-color: var(--fill-color);\n",
              "    animation:\n",
              "      spin 1s steps(1) infinite;\n",
              "  }\n",
              "\n",
              "  @keyframes spin {\n",
              "    0% {\n",
              "      border-color: transparent;\n",
              "      border-bottom-color: var(--fill-color);\n",
              "      border-left-color: var(--fill-color);\n",
              "    }\n",
              "    20% {\n",
              "      border-color: transparent;\n",
              "      border-left-color: var(--fill-color);\n",
              "      border-top-color: var(--fill-color);\n",
              "    }\n",
              "    30% {\n",
              "      border-color: transparent;\n",
              "      border-left-color: var(--fill-color);\n",
              "      border-top-color: var(--fill-color);\n",
              "      border-right-color: var(--fill-color);\n",
              "    }\n",
              "    40% {\n",
              "      border-color: transparent;\n",
              "      border-right-color: var(--fill-color);\n",
              "      border-top-color: var(--fill-color);\n",
              "    }\n",
              "    60% {\n",
              "      border-color: transparent;\n",
              "      border-right-color: var(--fill-color);\n",
              "    }\n",
              "    80% {\n",
              "      border-color: transparent;\n",
              "      border-right-color: var(--fill-color);\n",
              "      border-bottom-color: var(--fill-color);\n",
              "    }\n",
              "    90% {\n",
              "      border-color: transparent;\n",
              "      border-bottom-color: var(--fill-color);\n",
              "    }\n",
              "  }\n",
              "</style>\n",
              "\n",
              "      <script>\n",
              "        async function quickchart(key) {\n",
              "          const quickchartButtonEl =\n",
              "            document.querySelector('#' + key + ' button');\n",
              "          quickchartButtonEl.disabled = true;  // To prevent multiple clicks.\n",
              "          quickchartButtonEl.classList.add('colab-df-spinner');\n",
              "          try {\n",
              "            const charts = await google.colab.kernel.invokeFunction(\n",
              "                'suggestCharts', [key], {});\n",
              "          } catch (error) {\n",
              "            console.error('Error during call to suggestCharts:', error);\n",
              "          }\n",
              "          quickchartButtonEl.classList.remove('colab-df-spinner');\n",
              "          quickchartButtonEl.classList.add('colab-df-quickchart-complete');\n",
              "        }\n",
              "        (() => {\n",
              "          let quickchartButtonEl =\n",
              "            document.querySelector('#df-148ebaf9-d771-48a7-8639-4321c1921a39 button');\n",
              "          quickchartButtonEl.style.display =\n",
              "            google.colab.kernel.accessAllowed ? 'block' : 'none';\n",
              "        })();\n",
              "      </script>\n",
              "    </div>\n",
              "\n",
              "    </div>\n",
              "  </div>\n"
            ],
            "application/vnd.google.colaboratory.intrinsic+json": {
              "type": "dataframe",
              "summary": "{\n  \"name\": \"sample\",\n  \"rows\": 8,\n  \"fields\": [\n    {\n      \"column\": \"product_id\",\n      \"properties\": {\n        \"dtype\": \"number\",\n        \"std\": 17674624.86641664,\n        \"min\": 1000000.0,\n        \"max\": 53900017.0,\n        \"num_unique_values\": 8,\n        \"samples\": [\n          10347992.085779,\n          5100397.0,\n          1000000.0\n        ],\n        \"semantic_type\": \"\",\n        \"description\": \"\"\n      }\n    },\n    {\n      \"column\": \"category_id\",\n      \"properties\": {\n        \"dtype\": \"number\",\n        \"std\": 9.573370865424637e+17,\n        \"min\": 1000000.0,\n        \"max\": 2.1754195950939676e+18,\n        \"num_unique_values\": 8,\n        \"samples\": [\n          2.056347726776694e+18,\n          2.0530135556318828e+18,\n          1000000.0\n        ],\n        \"semantic_type\": \"\",\n        \"description\": \"\"\n      }\n    },\n    {\n      \"column\": \"price\",\n      \"properties\": {\n        \"dtype\": \"number\",\n        \"std\": 353361.19891324424,\n        \"min\": 0.0,\n        \"max\": 1000000.0,\n        \"num_unique_values\": 8,\n        \"samples\": [\n          295.98247051,\n          161.93,\n          1000000.0\n        ],\n        \"semantic_type\": \"\",\n        \"description\": \"\"\n      }\n    },\n    {\n      \"column\": \"user_id\",\n      \"properties\": {\n        \"dtype\": \"number\",\n        \"std\": 243396311.56234536,\n        \"min\": 1000000.0,\n        \"max\": 555717509.0,\n        \"num_unique_values\": 8,\n        \"samples\": [\n          531276315.76035,\n          527128983.0,\n          1000000.0\n        ],\n        \"semantic_type\": \"\",\n        \"description\": \"\"\n      }\n    }\n  ]\n}"
            }
          },
          "metadata": {},
          "execution_count": 5
        }
      ]
    },
    {
      "cell_type": "code",
      "source": [
        "# Actual number of unique users in the sample\n",
        "unique_users_in_sample = sample['user_id'].nunique()\n",
        "print(f\"Unique users in 1M sample: {unique_users_in_sample}\")"
      ],
      "metadata": {
        "colab": {
          "base_uri": "https://localhost:8080/"
        },
        "id": "-3JGbHuxNRZt",
        "outputId": "2a440723-0bdb-4053-ea70-93cbb7645a53"
      },
      "execution_count": null,
      "outputs": [
        {
          "output_type": "stream",
          "name": "stdout",
          "text": [
            "Unique users in 1M sample: 163024\n"
          ]
        }
      ]
    },
    {
      "cell_type": "code",
      "source": [
        "# Understand data structure without loading full dataset\n",
        "sample.dtypes"
      ],
      "metadata": {
        "colab": {
          "base_uri": "https://localhost:8080/",
          "height": 366
        },
        "id": "e3q5sZPdI2W9",
        "outputId": "b38f3c4c-d49f-407d-ce10-0fca8c137300"
      },
      "execution_count": null,
      "outputs": [
        {
          "output_type": "execute_result",
          "data": {
            "text/plain": [
              "event_time        object\n",
              "event_type        object\n",
              "product_id         int64\n",
              "category_id        int64\n",
              "category_code     object\n",
              "brand             object\n",
              "price            float64\n",
              "user_id            int64\n",
              "user_session      object\n",
              "dtype: object"
            ],
            "text/html": [
              "<div>\n",
              "<style scoped>\n",
              "    .dataframe tbody tr th:only-of-type {\n",
              "        vertical-align: middle;\n",
              "    }\n",
              "\n",
              "    .dataframe tbody tr th {\n",
              "        vertical-align: top;\n",
              "    }\n",
              "\n",
              "    .dataframe thead th {\n",
              "        text-align: right;\n",
              "    }\n",
              "</style>\n",
              "<table border=\"1\" class=\"dataframe\">\n",
              "  <thead>\n",
              "    <tr style=\"text-align: right;\">\n",
              "      <th></th>\n",
              "      <th>0</th>\n",
              "    </tr>\n",
              "  </thead>\n",
              "  <tbody>\n",
              "    <tr>\n",
              "      <th>event_time</th>\n",
              "      <td>object</td>\n",
              "    </tr>\n",
              "    <tr>\n",
              "      <th>event_type</th>\n",
              "      <td>object</td>\n",
              "    </tr>\n",
              "    <tr>\n",
              "      <th>product_id</th>\n",
              "      <td>int64</td>\n",
              "    </tr>\n",
              "    <tr>\n",
              "      <th>category_id</th>\n",
              "      <td>int64</td>\n",
              "    </tr>\n",
              "    <tr>\n",
              "      <th>category_code</th>\n",
              "      <td>object</td>\n",
              "    </tr>\n",
              "    <tr>\n",
              "      <th>brand</th>\n",
              "      <td>object</td>\n",
              "    </tr>\n",
              "    <tr>\n",
              "      <th>price</th>\n",
              "      <td>float64</td>\n",
              "    </tr>\n",
              "    <tr>\n",
              "      <th>user_id</th>\n",
              "      <td>int64</td>\n",
              "    </tr>\n",
              "    <tr>\n",
              "      <th>user_session</th>\n",
              "      <td>object</td>\n",
              "    </tr>\n",
              "  </tbody>\n",
              "</table>\n",
              "</div><br><label><b>dtype:</b> object</label>"
            ]
          },
          "metadata": {},
          "execution_count": 12
        }
      ]
    },
    {
      "cell_type": "code",
      "source": [
        "sample.columns.tolist()"
      ],
      "metadata": {
        "colab": {
          "base_uri": "https://localhost:8080/"
        },
        "id": "hb_g7gbTIhGL",
        "outputId": "19290494-b177-4cf4-9625-21ce46b8f91c"
      },
      "execution_count": null,
      "outputs": [
        {
          "output_type": "execute_result",
          "data": {
            "text/plain": [
              "['event_time',\n",
              " 'event_type',\n",
              " 'product_id',\n",
              " 'category_id',\n",
              " 'category_code',\n",
              " 'brand',\n",
              " 'price',\n",
              " 'user_id',\n",
              " 'user_session']"
            ]
          },
          "metadata": {},
          "execution_count": 9
        }
      ]
    },
    {
      "cell_type": "code",
      "execution_count": null,
      "metadata": {
        "id": "_1OJjxWQwNs5",
        "colab": {
          "base_uri": "https://localhost:8080/"
        },
        "outputId": "171ddc0f-96b0-42df-b96c-6268e06b43e9"
      },
      "outputs": [
        {
          "output_type": "stream",
          "name": "stdout",
          "text": [
            "event_type\n",
            "view        968513\n",
            "purchase     16848\n",
            "cart         14639\n",
            "Name: count, dtype: int64\n"
          ]
        }
      ],
      "source": [
        "#3. Check Row Counts by Event Type\n",
        "# Helps understand class imbalance early.\n",
        "event_counts = sample['event_type'].value_counts()\n",
        "print(event_counts)"
      ]
    },
    {
      "cell_type": "code",
      "source": [
        "#4. Understand Time Range\n",
        "sample['event_time'] = pd.to_datetime(sample['event_time'])\n",
        "sample['event_time'].min(), sample['event_time'].max()"
      ],
      "metadata": {
        "colab": {
          "base_uri": "https://localhost:8080/"
        },
        "id": "MlxcR4LTQBJn",
        "outputId": "131d51c5-1d95-453f-a49f-f96ef711dd5c"
      },
      "execution_count": null,
      "outputs": [
        {
          "output_type": "execute_result",
          "data": {
            "text/plain": [
              "(Timestamp('2019-10-01 00:00:00+0000', tz='UTC'),\n",
              " Timestamp('2019-10-01 16:56:07+0000', tz='UTC'))"
            ]
          },
          "metadata": {},
          "execution_count": 16
        }
      ]
    },
    {
      "cell_type": "markdown",
      "source": [
        "## Data Quality Assessment"
      ],
      "metadata": {
        "id": "WY6TeZmoTLxG"
      }
    },
    {
      "cell_type": "code",
      "source": [
        "# Missing values (partially done)\n",
        "sample.isnull().sum()\n",
        "\n",
        "# Duplicates\n",
        "sample.duplicated().sum()\n",
        "\n",
        "#4. Understand Time Range\n",
        "sample['event_time'] = pd.to_datetime(sample['event_time'])\n",
        "sample['event_time'].min(), sample['event_time'].max()"
      ],
      "metadata": {
        "colab": {
          "base_uri": "https://localhost:8080/",
          "height": 366
        },
        "id": "9ppT7FWETFQl",
        "outputId": "9e0c6b80-12b3-4cae-b477-5686c9b8f78c"
      },
      "execution_count": null,
      "outputs": [
        {
          "output_type": "execute_result",
          "data": {
            "text/plain": [
              "event_time       datetime64[ns, UTC]\n",
              "event_type                    object\n",
              "product_id                     int64\n",
              "category_id                    int64\n",
              "category_code                 object\n",
              "brand                         object\n",
              "price                        float64\n",
              "user_id                        int64\n",
              "user_session                  object\n",
              "dtype: object"
            ],
            "text/html": [
              "<div>\n",
              "<style scoped>\n",
              "    .dataframe tbody tr th:only-of-type {\n",
              "        vertical-align: middle;\n",
              "    }\n",
              "\n",
              "    .dataframe tbody tr th {\n",
              "        vertical-align: top;\n",
              "    }\n",
              "\n",
              "    .dataframe thead th {\n",
              "        text-align: right;\n",
              "    }\n",
              "</style>\n",
              "<table border=\"1\" class=\"dataframe\">\n",
              "  <thead>\n",
              "    <tr style=\"text-align: right;\">\n",
              "      <th></th>\n",
              "      <th>0</th>\n",
              "    </tr>\n",
              "  </thead>\n",
              "  <tbody>\n",
              "    <tr>\n",
              "      <th>event_time</th>\n",
              "      <td>datetime64[ns, UTC]</td>\n",
              "    </tr>\n",
              "    <tr>\n",
              "      <th>event_type</th>\n",
              "      <td>object</td>\n",
              "    </tr>\n",
              "    <tr>\n",
              "      <th>product_id</th>\n",
              "      <td>int64</td>\n",
              "    </tr>\n",
              "    <tr>\n",
              "      <th>category_id</th>\n",
              "      <td>int64</td>\n",
              "    </tr>\n",
              "    <tr>\n",
              "      <th>category_code</th>\n",
              "      <td>object</td>\n",
              "    </tr>\n",
              "    <tr>\n",
              "      <th>brand</th>\n",
              "      <td>object</td>\n",
              "    </tr>\n",
              "    <tr>\n",
              "      <th>price</th>\n",
              "      <td>float64</td>\n",
              "    </tr>\n",
              "    <tr>\n",
              "      <th>user_id</th>\n",
              "      <td>int64</td>\n",
              "    </tr>\n",
              "    <tr>\n",
              "      <th>user_session</th>\n",
              "      <td>object</td>\n",
              "    </tr>\n",
              "  </tbody>\n",
              "</table>\n",
              "</div><br><label><b>dtype:</b> object</label>"
            ]
          },
          "metadata": {},
          "execution_count": 17
        }
      ]
    },
    {
      "cell_type": "code",
      "source": [],
      "metadata": {
        "id": "fuGHg6tqTJiV"
      },
      "execution_count": null,
      "outputs": []
    }
  ]
}